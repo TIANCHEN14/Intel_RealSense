{
 "cells": [
  {
   "cell_type": "code",
   "execution_count": 1,
   "id": "3a68407e-0a4c-40a9-9607-e5529976ad0f",
   "metadata": {
    "tags": []
   },
   "outputs": [],
   "source": [
    "import numpy as np\n",
    "import matplotlib.pyplot as plt\n",
    "import sys\n",
    "\n"
   ]
  },
  {
   "cell_type": "code",
   "execution_count": 16,
   "id": "f3e1fa07-2684-4255-98cd-41204b79ddcc",
   "metadata": {
    "tags": []
   },
   "outputs": [],
   "source": [
    "# ray casting function to check see if pixel is within the polygon\n",
    "# looking for an specific aruco marker in the marker dict\n",
    "def ray_casting_check(point_x , point_y):\n",
    "\n",
    "        # define max system variable\n",
    "        huge = sys.float_info.max\n",
    "\n",
    "        # we start from outside of the polygon            \n",
    "        # states variable declear\n",
    "        inside = False\n",
    "        \n",
    "        # error check make sure the ID we passed in is detected\n",
    "        #if id in self.marker_dict:\n",
    "            \n",
    "\n",
    "        # import all the object into an np array \n",
    "        #marker_corner_0 = np.array(self.marker_dict[id]['corner_0'] , dtype = np.int32)\n",
    "        #marker_corner_0 = np.expand_dims(marker_corner_0 , axis = 0)\n",
    "        #marker_corner_1 = np.array(self.marker_dict[id]['corner_1'] , dtype = np.int32)\n",
    "        #marker_corner_1 = np.expand_dims(marker_corner_1 , axis = 0)\n",
    "        #marker_corner_2 = np.array(self.marker_dict[id]['corner_2'] , dtype = np.int32)\n",
    "        #marker_corner_2 = np.expand_dims(marker_corner_2 , axis = 0)\n",
    "        #marker_corner_3 = np.array(self.marker_dict[id]['corner_3'] , dtype = np.int32)\n",
    "        #marker_corner_3 = np.expand_dims(marker_corner_3 , axis = 0)\n",
    "\n",
    "        # concatenate the numpy array as an single 2X4 array\n",
    "        #marker_corner_np = np.concatenate((marker_corner_0 , marker_corner_1 , marker_corner_2 , marker_corner_3) , axis = 0)\n",
    "\n",
    "        marker_corner_np = np.array([[20 ,  10],\n",
    "                                     [50 , 125],\n",
    "                                     #[125,  90],\n",
    "                                     [150,  20]])\n",
    "\n",
    "\n",
    "        # pass corners into the sorting algorithms to get them in an rotation oriantation\n",
    "        #marker_corner_np = self.__corner_sorting(marker_corner_np)\n",
    "        #print(marker_corner_np)\n",
    "\n",
    "\n",
    "\n",
    "        # loop though all the corners\n",
    "        n = marker_corner_np.shape[0]\n",
    "\n",
    "        for i in range(-1,n-1):\n",
    "\n",
    "            # import the first two point\n",
    "            p1x = marker_corner_np[i][0]\n",
    "            p1y = marker_corner_np[i][1]\n",
    "            p2x = marker_corner_np[i+1][0]\n",
    "            p2y = marker_corner_np[i+1][1]\n",
    "\n",
    "            # compare the y value to make sure p1y is the lower point\n",
    "            if p1y > p2y:\n",
    "                p1x , p1y , p2x , p2y = p2x , p2y , p1x , p1y \n",
    "\n",
    "            # check if the point is the same height as p1y and p2y\n",
    "            #if point_y == p1y or point_y == p2y:\n",
    "\n",
    "                # add an fraction on it to make sure when we calculate the intercept there will not be divided by 0\n",
    "                #point_y = point_y + 0.001\n",
    "\n",
    "            # check intercept on the horiztal ray casting\n",
    "            if point_y > p1y and point_y <= p2y:\n",
    "\n",
    "                # this means it intercept with the first edge\n",
    "                #inside = not inside\n",
    "\n",
    "                # check the slope to make up the odd even times that the ray passing by\n",
    "                # we default these to max because the slope of an function that is parallel to the y axis is infinity\n",
    "\n",
    "                if point_x <= max(p1x ,p2x):\n",
    "                    if p2y != p1y and point_y != p1y:\n",
    "                        \n",
    "                        m_edge = (p2x - p1x) / (p2y - p1y)\n",
    "                        m_slope = (point_x - p1x) / (point_y - p1y)\n",
    "\n",
    "                        # check the slope to see we just need to make sure either one is bigger to get and odd number\n",
    "\n",
    "                        if m_slope < m_edge: #or p1y == p2y: # and point_x < max(p1x, p2x):\n",
    "                            inside = not inside\n",
    "\n",
    "                    #else:\n",
    "                       # inside = not inside\n",
    "                        \n",
    "                    \n",
    "                    \n",
    "                        #print(\"intercept with \" , i-1 ,  i)\n",
    "\n",
    "\n",
    "\n",
    "            \n",
    "        #else:\n",
    "            #print(\"Marker not in class\")\n",
    "\n",
    "\n",
    "        return inside"
   ]
  },
  {
   "cell_type": "code",
   "execution_count": 17,
   "id": "614ca9a9-9150-4de1-b59e-0f645e0fce2e",
   "metadata": {
    "tags": []
   },
   "outputs": [
    {
     "name": "stdout",
     "output_type": "stream",
     "text": [
      "False\n"
     ]
    }
   ],
   "source": [
    "marker_corner_np = np.array([[20 ,  10],\n",
    "                             [50 , 125],\n",
    "                             [125,  90],\n",
    "                             [150,  10],])\n",
    "\n",
    "point_x = 75\n",
    "point_y = 50\n",
    "\n",
    "status = ray_casting_check(50, 10)\n",
    "\n",
    "print(status)"
   ]
  },
  {
   "cell_type": "code",
   "execution_count": 18,
   "id": "06ae6db4-bcb8-4cf5-984b-50cccb3d82a6",
   "metadata": {
    "tags": []
   },
   "outputs": [
    {
     "data": {
      "image/png": "[encoded data removed]",
      "text/plain": [
       "<Figure size 640x480 with 2 Axes>"
      ]
     },
     "metadata": {},
     "output_type": "display_data"
    }
   ],
   "source": [
    "# scanning though all the 400 X 400 pixel point and display that in an heat plot\n",
    "\n",
    "# define an 400x400 array\n",
    "h_map = np.zeros((250, 150))\n",
    "\n",
    "for i in range(250):\n",
    "    for j in range(150):\n",
    "        status = ray_casting_check(i , j)\n",
    "        \n",
    "        if status == True:\n",
    "            h_map[i][j] = 1\n",
    "            \n",
    "h_map = np.transpose(h_map)\n",
    "            \n",
    "            \n",
    "plt.imshow(h_map , cmap =\"gray\")\n",
    "plt.colorbar()\n",
    "plt.title('Ray Casting Check')\n",
    "plt.show()\n",
    "           "
   ]
  },
  {
   "cell_type": "code",
   "execution_count": null,
   "id": "de42fa78-5eb8-4966-a83d-4c8ba6ae8479",
   "metadata": {},
   "outputs": [],
   "source": []
  }
 ],
 "metadata": {
  "kernelspec": {
   "display_name": "Python 3 (ipykernel)",
   "language": "python",
   "name": "python3"
  },
  "language_info": {
   "codemirror_mode": {
    "name": "ipython",
    "version": 3
   },
   "file_extension": ".py",
   "mimetype": "text/x-python",
   "name": "python",
   "nbconvert_exporter": "python",
   "pygments_lexer": "ipython3",
   "version": "3.11.5"
  }
 },
 "nbformat": 4,
 "nbformat_minor": 5
}
